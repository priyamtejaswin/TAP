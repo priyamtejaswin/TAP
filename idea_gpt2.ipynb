{
 "cells": [
  {
   "cell_type": "code",
   "execution_count": 1,
   "id": "dfd56c9c",
   "metadata": {},
   "outputs": [],
   "source": [
    "import os\n",
    "import json\n",
    "import pickle"
   ]
  },
  {
   "cell_type": "code",
   "execution_count": 2,
   "id": "1f6c7416",
   "metadata": {},
   "outputs": [
    {
     "name": "stdout",
     "output_type": "stream",
     "text": [
      "Truths: 5000\n"
     ]
    }
   ],
   "source": [
    "truth = {}\n",
    "with open('/usr0/home/ptejaswi/TextVQA_0.5.1_val.json', 'rb') as fp:\n",
    "    for x in json.loads(fp.read())['data']:\n",
    "        truth[x['question_id']] = x\n",
    "\n",
    "print(\"Truths:\", len(truth))"
   ]
  },
  {
   "cell_type": "code",
   "execution_count": 3,
   "id": "01903a10",
   "metadata": {},
   "outputs": [],
   "source": [
    "qids = \"\"\"37988\n",
    "37122\n",
    "38733\n",
    "36133\n",
    "37833\n",
    "35131\n",
    "36752\n",
    "36798\n",
    "35699\n",
    "39320\n",
    "35584\n",
    "37243\n",
    "39336\n",
    "39317\n",
    "37723\n",
    "38719\n",
    "37458\n",
    "37459\n",
    "35217\n",
    "35354\n",
    "34992\n",
    "36450\n",
    "37487\n",
    "38766\n",
    "38956\n",
    "36570\n",
    "34891\n",
    "37142\n",
    "38927\n",
    "35103\n",
    "35494\n",
    "36137\n",
    "39486\n",
    "36009\n",
    "37268\n",
    "37103\n",
    "35607\n",
    "38166\n",
    "34613\n",
    "37844\n",
    "39596\n",
    "37096\n",
    "37862\n",
    "38764\n",
    "36133\n",
    "36715\n",
    "38841\n",
    "36321\n",
    "38212\n",
    "37523\n",
    "35167\n",
    "37452\n",
    "37733\n",
    "34980\n",
    "38865\n",
    "38267\n",
    "35063\n",
    "38688\n",
    "35088\n",
    "36600\n",
    "34892\n",
    "35716\n",
    "36134\n",
    "37146\n",
    "35016\n",
    "37743\n",
    "36483\n",
    "36448\n",
    "35058\n",
    "34826\n",
    "38742\n",
    "36827\n",
    "36792\n",
    "38236\n",
    "36076\n",
    "38346\n",
    "35150\n",
    "37773\n",
    "39068\n",
    "35564\n",
    "38155\n",
    "36080\n",
    "37491\n",
    "39287\n",
    "38753\n",
    "34797\n",
    "36695\n",
    "36758\n",
    "35701\n",
    "37695\n",
    "37116\n",
    "39197\n",
    "37832\n",
    "37163\n",
    "36714\n",
    "34649\n",
    "37236\n",
    "37570\n",
    "35597\n",
    "35568\n",
    "34663\n",
    "37323\"\"\".split()"
   ]
  },
  {
   "cell_type": "code",
   "execution_count": 4,
   "id": "742bf4dd",
   "metadata": {},
   "outputs": [],
   "source": [
    "towrite = []\n",
    "\n",
    "for q in qids:\n",
    "    q = int(q)\n",
    "    d = truth[q]\n",
    "    towrite.append{\n",
    "        'question_id': q,\n",
    "        'question': d['question'],\n",
    "        'img_url': d['flickr_original_url'],\n",
    "        'answers': d['answers']\n",
    "    }"
   ]
  },
  {
   "cell_type": "code",
   "execution_count": 5,
   "id": "6d9d3c23",
   "metadata": {},
   "outputs": [
    {
     "data": {
      "text/plain": [
       "{'question': 'what does the box say on the bottom?',\n",
       " 'image_id': '26cc94e8d52eef78',\n",
       " 'image_classes': ['Box'],\n",
       " 'flickr_original_url': 'https://c1.staticflickr.com/9/8355/8303986182_f629a0e11a_o.jpg',\n",
       " 'flickr_300k_url': 'https://c1.staticflickr.com/9/8355/8303986182_b13eae4d29_z.jpg',\n",
       " 'image_width': 1024,\n",
       " 'image_height': 768,\n",
       " 'answers': ['merry christmas',\n",
       "  'merry christmas',\n",
       "  'merry christmas',\n",
       "  'merry christmas',\n",
       "  'merry christmas',\n",
       "  'merry christmas',\n",
       "  'merry christmas',\n",
       "  'merry christmas',\n",
       "  'merry christmas',\n",
       "  'merry christmas'],\n",
       " 'question_tokens': ['what',\n",
       "  'does',\n",
       "  'the',\n",
       "  'box',\n",
       "  'say',\n",
       "  'on',\n",
       "  'the',\n",
       "  'bottom'],\n",
       " 'question_id': 37323,\n",
       " 'set_name': 'val'}"
      ]
     },
     "execution_count": 5,
     "metadata": {},
     "output_type": "execute_result"
    }
   ],
   "source": [
    "\n"
   ]
  }
 ],
 "metadata": {
  "kernelspec": {
   "display_name": "py36tap",
   "language": "python",
   "name": "py36tap"
  },
  "language_info": {
   "codemirror_mode": {
    "name": "ipython",
    "version": 3
   },
   "file_extension": ".py",
   "mimetype": "text/x-python",
   "name": "python",
   "nbconvert_exporter": "python",
   "pygments_lexer": "ipython3",
   "version": "3.6.13"
  }
 },
 "nbformat": 4,
 "nbformat_minor": 5
}
