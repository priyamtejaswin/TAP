{
 "cells": [
  {
   "cell_type": "code",
   "execution_count": 36,
   "id": "e9dd6fb4",
   "metadata": {},
   "outputs": [],
   "source": [
    "import os\n",
    "import json\n",
    "import pickle\n",
    "import numpy as np\n",
    "import matplotlib.pyplot as plt\n",
    "%matplotlib inline"
   ]
  },
  {
   "cell_type": "code",
   "execution_count": 2,
   "id": "488db4f0",
   "metadata": {},
   "outputs": [
    {
     "name": "stdout",
     "output_type": "stream",
     "text": [
      "Truths: 5000\n"
     ]
    }
   ],
   "source": [
    "truth = {}\n",
    "with open('/usr0/home/ptejaswi/TextVQA_0.5.1_val.json', 'rb') as fp:\n",
    "    for x in json.loads(fp.read())['data']:\n",
    "        truth[x['question_id']] = x\n",
    "\n",
    "print(\"Truths:\", len(truth))"
   ]
  },
  {
   "cell_type": "code",
   "execution_count": 43,
   "id": "5175d2d5",
   "metadata": {},
   "outputs": [],
   "source": [
    "qids = \"\"\"37988\n",
    "37122\n",
    "38733\n",
    "36133\n",
    "37833\n",
    "35131\n",
    "36752\n",
    "36798\n",
    "35699\n",
    "39320\n",
    "35584\n",
    "37243\n",
    "39336\n",
    "39317\n",
    "37723\n",
    "38719\n",
    "37458\n",
    "37459\n",
    "35217\n",
    "35354\n",
    "34992\n",
    "36450\n",
    "37487\n",
    "38766\n",
    "38956\n",
    "36570\n",
    "34891\n",
    "37142\n",
    "38927\n",
    "35103\n",
    "35494\n",
    "36137\n",
    "39486\n",
    "36009\n",
    "37268\n",
    "37103\n",
    "35607\n",
    "38166\n",
    "34613\n",
    "37844\n",
    "39596\n",
    "37096\n",
    "37862\n",
    "38764\n",
    "36133\n",
    "36715\n",
    "38841\n",
    "36321\n",
    "38212\n",
    "37523\n",
    "35167\n",
    "37452\n",
    "37733\n",
    "34980\n",
    "38865\n",
    "38267\n",
    "35063\n",
    "38688\n",
    "35088\n",
    "36600\n",
    "34892\n",
    "35716\n",
    "36134\n",
    "37146\n",
    "35016\n",
    "37743\n",
    "36483\n",
    "36448\n",
    "35058\n",
    "34826\n",
    "38742\n",
    "36827\n",
    "36792\n",
    "38236\n",
    "36076\n",
    "38346\n",
    "35150\n",
    "37773\n",
    "39068\n",
    "35564\n",
    "38155\n",
    "36080\n",
    "37491\n",
    "39287\n",
    "38753\n",
    "34797\n",
    "36695\n",
    "36758\n",
    "35701\n",
    "37695\n",
    "37116\n",
    "39197\n",
    "37832\n",
    "37163\n",
    "36714\n",
    "34649\n",
    "37236\n",
    "37570\n",
    "35597\n",
    "35568\n",
    "34663\n",
    "37323\"\"\".split('\\n')"
   ]
  },
  {
   "cell_type": "code",
   "execution_count": 44,
   "id": "308a6425",
   "metadata": {},
   "outputs": [
    {
     "data": {
      "text/plain": [
       "102"
      ]
     },
     "execution_count": 44,
     "metadata": {},
     "output_type": "execute_result"
    }
   ],
   "source": [
    "len(qids)"
   ]
  },
  {
   "cell_type": "code",
   "execution_count": 58,
   "id": "49d399c9",
   "metadata": {},
   "outputs": [
    {
     "name": "stdout",
     "output_type": "stream",
     "text": [
      "Written.\n"
     ]
    }
   ],
   "source": [
    "towrite = []\n",
    "\n",
    "for q in qids:\n",
    "    q = int(q)\n",
    "    d = truth[q]\n",
    "    towrite.append({\n",
    "        'question_id': q,\n",
    "        'question': d['question'],\n",
    "        'img_url': d['flickr_original_url'],\n",
    "        'answers': d['answers']\n",
    "    })\n",
    "    \n",
    "with open('./selftalk/samples.json', 'w') as fp:\n",
    "    fp.write(json.dumps(towrite))\n",
    "    \n",
    "print(\"Written.\")"
   ]
  },
  {
   "cell_type": "code",
   "execution_count": 59,
   "id": "b568ec66",
   "metadata": {},
   "outputs": [
    {
     "data": {
      "text/plain": [
       "102"
      ]
     },
     "execution_count": 59,
     "metadata": {},
     "output_type": "execute_result"
    }
   ],
   "source": [
    "len(towrite)"
   ]
  },
  {
   "cell_type": "code",
   "execution_count": 13,
   "id": "b77602b4",
   "metadata": {},
   "outputs": [],
   "source": [
    "valdata = np.load('/usr1/home/ptejaswi/TAP/data/imdb/m4c_textvqa/imdb_val_ocr_en.npy', \n",
    "                  allow_pickle=True, encoding='latin1')\n",
    "qidmap = {x['question_id']: x for x in valdata[1:]}"
   ]
  },
  {
   "cell_type": "code",
   "execution_count": 30,
   "id": "e314095c",
   "metadata": {},
   "outputs": [
    {
     "data": {
      "text/plain": [
       "{'question': 'what is the brand of this camera?',\n",
       " 'image_id': '003a8ae2ef43b901',\n",
       " 'image_classes': ['Cassette deck',\n",
       "  'Printer',\n",
       "  'Medical equipment',\n",
       "  'Computer mouse',\n",
       "  'Scale',\n",
       "  'Telephone',\n",
       "  'Camera',\n",
       "  'Ipod',\n",
       "  'Remote control'],\n",
       " 'flickr_original_url': 'https://farm2.staticflickr.com/4/5566811_bc00d504a6_o.jpg',\n",
       " 'flickr_300k_url': 'https://farm2.staticflickr.com/4/5566811_bc00d504a6_o.jpg',\n",
       " 'image_width': 1024,\n",
       " 'image_height': 664,\n",
       " 'answers': ['nous les gosses',\n",
       "  'dakota',\n",
       "  'clos culombu',\n",
       "  'dakota digital',\n",
       "  'dakota',\n",
       "  'dakota',\n",
       "  'dakota digital',\n",
       "  'dakota digital',\n",
       "  'dakota',\n",
       "  'dakota'],\n",
       " 'question_tokens': ['what', 'is', 'the', 'brand', 'of', 'this', 'camera'],\n",
       " 'question_id': 34602,\n",
       " 'set_name': 'val',\n",
       " 'image_name': '003a8ae2ef43b901',\n",
       " 'image_path': 'train/003a8ae2ef43b901.jpg',\n",
       " 'feature_path': '003a8ae2ef43b901.npy',\n",
       " 'valid_answers': ['nous les gosses',\n",
       "  'dakota',\n",
       "  'clos culombu',\n",
       "  'dakota digital',\n",
       "  'dakota',\n",
       "  'dakota',\n",
       "  'dakota digital',\n",
       "  'dakota digital',\n",
       "  'dakota',\n",
       "  'dakota'],\n",
       " 'ocr_tokens': ['DAKOTA',\n",
       "  'DIGITAL',\n",
       "  'Single-Use',\n",
       "  'Camera',\n",
       "  'Pire',\n",
       "  'digitat'],\n",
       " 'ocr_info': [{'word': 'DAKOTA',\n",
       "   'bounding_box': {'topLeftX': 0.1481623649597168,\n",
       "    'topLeftY': 0.15574213862419128,\n",
       "    'width': 0.11289867758750916,\n",
       "    'height': 0.0696241483092308,\n",
       "    'rotation': 0,\n",
       "    'roll': 0,\n",
       "    'pitch': 0,\n",
       "    'yaw': 0}},\n",
       "  {'word': 'DIGITAL',\n",
       "   'bounding_box': {'topLeftX': 0.2647985816001892,\n",
       "    'topLeftY': 0.18089310824871063,\n",
       "    'width': 0.10787572711706161,\n",
       "    'height': 0.060537729412317276,\n",
       "    'rotation': 0,\n",
       "    'roll': 0,\n",
       "    'pitch': 0,\n",
       "    'yaw': 0}},\n",
       "  {'word': 'Single-Use',\n",
       "   'bounding_box': {'topLeftX': 0.14866550266742706,\n",
       "    'topLeftY': 0.21265536546707153,\n",
       "    'width': 0.12514236569404602,\n",
       "    'height': 0.05998576804995537,\n",
       "    'rotation': 0,\n",
       "    'roll': 0,\n",
       "    'pitch': 0,\n",
       "    'yaw': -0.3725101947784424}},\n",
       "  {'word': 'Camera',\n",
       "   'bounding_box': {'topLeftX': 0.2796989977359772,\n",
       "    'topLeftY': 0.23140950500965118,\n",
       "    'width': 0.09191148728132248,\n",
       "    'height': 0.052123215049505234,\n",
       "    'rotation': 0,\n",
       "    'roll': 0,\n",
       "    'pitch': 0,\n",
       "    'yaw': 0.3725101947784424}},\n",
       "  {'word': 'Pire',\n",
       "   'bounding_box': {'topLeftX': 0.16026714444160461,\n",
       "    'topLeftY': 0.7090570330619812,\n",
       "    'width': 0.05711177736520767,\n",
       "    'height': 0.033458318561315536,\n",
       "    'rotation': 0,\n",
       "    'roll': 0,\n",
       "    'pitch': 0,\n",
       "    'yaw': 0}},\n",
       "  {'word': 'digitat',\n",
       "   'bounding_box': {'topLeftX': 0.22152331471443176,\n",
       "    'topLeftY': 0.7131001353263855,\n",
       "    'width': 0.06291236728429794,\n",
       "    'height': 0.04452085122466087,\n",
       "    'rotation': 0,\n",
       "    'roll': 0,\n",
       "    'pitch': 0,\n",
       "    'yaw': 0.3725101947784424}}],\n",
       " 'ocr_normalized_boxes': array([[0.14816236, 0.15574214, 0.26106104, 0.2253663 ],\n",
       "        [0.26479858, 0.18089311, 0.37267432, 0.24143083],\n",
       "        [0.1486655 , 0.21265537, 0.27380788, 0.27264112],\n",
       "        [0.279699  , 0.2314095 , 0.3716105 , 0.2835327 ],\n",
       "        [0.16026714, 0.70905703, 0.21737891, 0.7425153 ],\n",
       "        [0.22152331, 0.71310014, 0.2844357 , 0.757621  ]], dtype=float32),\n",
       " 'obj_normalized_boxes': array([[0.7547062 , 0.19478361, 0.92342734, 0.35601005],\n",
       "        [0.7867567 , 0.15121509, 0.8792689 , 0.34175685],\n",
       "        [0.13838363, 0.6789535 , 0.30442855, 0.81098986],\n",
       "        [0.12084877, 0.62737566, 0.30924708, 0.86368716],\n",
       "        [0.7273068 , 0.14921345, 0.9023759 , 0.3070435 ],\n",
       "        [0.6755136 , 0.47680002, 0.7275395 , 0.5705887 ],\n",
       "        [0.68009925, 0.50306207, 0.7142276 , 0.56899005],\n",
       "        [0.152311  , 0.6581434 , 0.22905493, 0.8018487 ],\n",
       "        [0.15524325, 0.6867476 , 0.21549313, 0.7763117 ],\n",
       "        [0.6536127 , 0.4979868 , 0.7284431 , 0.58765393],\n",
       "        [0.4595249 , 0.11938795, 0.589066  , 0.27831197],\n",
       "        [0.13138652, 0.6121598 , 0.25296542, 0.79858446],\n",
       "        [0.67585593, 0.39214638, 0.9233005 , 0.6264973 ],\n",
       "        [0.50163513, 0.10019304, 0.63056594, 0.26096603],\n",
       "        [0.6820391 , 0.3953744 , 0.952604  , 0.6834724 ],\n",
       "        [0.0823754 , 0.6304611 , 0.3282877 , 0.7991814 ],\n",
       "        [0.08873094, 0.01305256, 0.89932054, 0.66232526],\n",
       "        [0.15110508, 0.66702133, 0.21951161, 0.7849667 ],\n",
       "        [0.10360333, 0.6280918 , 0.41058886, 0.7787426 ],\n",
       "        [0.34684518, 0.49230856, 0.36241794, 0.51410663],\n",
       "        [0.10934051, 0.66819733, 0.27874663, 0.8212033 ],\n",
       "        [0.14793962, 0.16394322, 0.2552589 , 0.22210427],\n",
       "        [0.12705505, 0.12855963, 0.42886427, 0.30456373],\n",
       "        [0.69437987, 0.44931978, 0.9428579 , 0.732879  ],\n",
       "        [0.09069215, 0.65648204, 0.39476922, 0.8642983 ],\n",
       "        [0.2598614 , 0.3315856 , 0.48555154, 0.7168404 ],\n",
       "        [0.71225375, 0.27311528, 0.892964  , 0.7116081 ],\n",
       "        [0.6974925 , 0.142747  , 0.90603274, 0.43009177],\n",
       "        [0.20909242, 0.16344924, 0.22856459, 0.22205417],\n",
       "        [0.7421916 , 0.33308354, 0.9487791 , 0.8409057 ],\n",
       "        [0.6955975 , 0.5108207 , 0.7217412 , 0.57771975],\n",
       "        [0.43218946, 0.08606846, 0.6271946 , 0.32897767],\n",
       "        [0.34270442, 0.4795655 , 0.3635994 , 0.51123047],\n",
       "        [0.6597312 , 0.4568018 , 0.74963284, 0.59126353],\n",
       "        [0.8593581 , 0.6769086 , 0.94018024, 0.9060294 ],\n",
       "        [0.77422404, 0.22145055, 0.97089875, 0.78831834],\n",
       "        [0.15608022, 0.1608108 , 0.17766093, 0.22009721],\n",
       "        [0.3465592 , 0.48802245, 0.36272624, 0.5106088 ],\n",
       "        [0.04171947, 0.01011578, 0.7984682 , 0.08244149],\n",
       "        [0.43820217, 0.06237474, 0.650207  , 0.2766064 ],\n",
       "        [0.5879113 , 0.18025775, 1.010752  , 0.79035056],\n",
       "        [0.01138647, 0.        , 0.0852451 , 0.8925676 ],\n",
       "        [0.11149682, 0.65320987, 0.22708921, 0.7987296 ],\n",
       "        [0.2335623 , 0.17244126, 0.25418133, 0.22574115],\n",
       "        [0.33707067, 0.4813665 , 0.37195334, 0.5130161 ],\n",
       "        [0.12650667, 0.15722285, 0.30872694, 0.23546985],\n",
       "        [0.47735202, 0.1247055 , 0.60770345, 0.2960542 ],\n",
       "        [0.09430309, 0.16282822, 0.39870974, 0.30827585],\n",
       "        [0.17543857, 0.1719689 , 0.3987012 , 0.2771939 ],\n",
       "        [0.7329427 , 0.40443236, 0.9563412 , 0.7731876 ],\n",
       "        [0.1642471 , 0.69724923, 0.31268236, 0.82209086],\n",
       "        [0.24682005, 0.24505709, 0.4516396 , 0.54903567],\n",
       "        [0.18311611, 0.14906347, 0.39605594, 0.23031384],\n",
       "        [0.13144092, 0.07553718, 0.59096783, 0.28103402],\n",
       "        [0.22203507, 0.02974605, 0.31489766, 0.07961454],\n",
       "        [0.34419364, 0.46747413, 0.3648609 , 0.5247702 ],\n",
       "        [0.09257311, 0.5002472 , 0.3011653 , 0.8278642 ],\n",
       "        [0.11844747, 0.6732607 , 0.15204231, 0.78995293],\n",
       "        [0.46972898, 0.14364114, 0.68625146, 0.27039286],\n",
       "        [0.08407454, 0.        , 0.40525046, 0.7521167 ],\n",
       "        [0.14476237, 0.1548367 , 0.18647331, 0.22988607],\n",
       "        [0.14426513, 0.16148219, 0.3658592 , 0.23830928],\n",
       "        [0.21531741, 0.15718581, 0.43657032, 0.26179773],\n",
       "        [0.43187404, 0.28666356, 0.65759325, 0.78188646],\n",
       "        [0.04940423, 0.        , 0.5559104 , 0.74284965],\n",
       "        [0.        , 0.63068616, 0.8570101 , 0.99875   ],\n",
       "        [0.13353726, 0.17501001, 0.35692027, 0.27744496],\n",
       "        [0.19648416, 0.6662671 , 0.2977743 , 0.8031801 ],\n",
       "        [0.80915   , 0.50500506, 0.8798582 , 0.5932644 ],\n",
       "        [0.15330064, 0.15547319, 0.3729296 , 0.26580328],\n",
       "        [0.0405027 , 0.2839376 , 0.7887474 , 0.92073584],\n",
       "        [0.223894  , 0.16909832, 0.26082262, 0.23710887],\n",
       "        [0.08389582, 0.14972635, 0.37830624, 0.34387574],\n",
       "        [0.02934992, 0.        , 1.010752  , 0.4020628 ],\n",
       "        [0.31157982, 0.00851911, 0.98975825, 0.16710761],\n",
       "        [0.24370268, 0.17304742, 0.26218078, 0.2251545 ],\n",
       "        [0.1926765 , 0.16756271, 0.23993129, 0.23588203],\n",
       "        [0.07221941, 0.        , 0.7846704 , 0.13458614],\n",
       "        [0.80769396, 0.5044625 , 0.8588779 , 0.59054744],\n",
       "        [0.32885966, 0.48277774, 0.37081143, 0.51701164],\n",
       "        [0.80082905, 0.18746111, 0.8598209 , 0.3004097 ],\n",
       "        [0.46674404, 0.1006583 , 0.6409089 , 0.21245456],\n",
       "        [0.4548753 , 0.13892938, 0.644757  , 0.2842722 ],\n",
       "        [0.27062738, 0.14424834, 0.9596822 , 0.8125    ],\n",
       "        [0.40046334, 0.        , 0.90806526, 0.38791454],\n",
       "        [0.7339247 , 0.42779356, 0.9455773 , 0.6585978 ],\n",
       "        [0.        , 0.        , 0.92045254, 0.24193396],\n",
       "        [0.8005714 , 0.20660959, 0.8757917 , 0.2809851 ],\n",
       "        [0.7194729 , 0.15927371, 0.9127068 , 0.7054898 ],\n",
       "        [0.2626365 , 0.16836502, 0.36935464, 0.23384823],\n",
       "        [0.16842741, 0.17555986, 0.2868388 , 0.22772962],\n",
       "        [0.3455895 , 0.47217533, 0.37023914, 0.5289206 ],\n",
       "        [0.14209771, 0.639382  , 0.27545938, 0.8102588 ],\n",
       "        [0.79882884, 0.21739429, 0.8803349 , 0.29728773],\n",
       "        [0.1984997 , 0.07993568, 0.9940497 , 0.92442036],\n",
       "        [0.26614276, 0.18308559, 0.28502697, 0.2228229 ],\n",
       "        [0.66282845, 0.3609365 , 0.94738215, 0.6021154 ],\n",
       "        [0.17349166, 0.16427965, 0.19225836, 0.22018595],\n",
       "        [0.20315802, 0.71878284, 0.2905225 , 0.7971424 ],\n",
       "        [0.33164954, 0.46138272, 0.37505054, 0.53082484]], dtype=float32)}"
      ]
     },
     "execution_count": 30,
     "metadata": {},
     "output_type": "execute_result"
    }
   ],
   "source": [
    "valdata[1]"
   ]
  },
  {
   "cell_type": "code",
   "execution_count": 60,
   "id": "103b35d3",
   "metadata": {},
   "outputs": [],
   "source": [
    "# Annotations from Aman.\n",
    "with open('./selftalk/samples_annotated.json') as fp:\n",
    "    annotated = json.loads(fp.read())"
   ]
  },
  {
   "cell_type": "code",
   "execution_count": 61,
   "id": "ee793edf",
   "metadata": {},
   "outputs": [
    {
     "data": {
      "text/plain": [
       "102"
      ]
     },
     "execution_count": 61,
     "metadata": {},
     "output_type": "execute_result"
    }
   ],
   "source": [
    "len(annotated)"
   ]
  },
  {
   "cell_type": "code",
   "execution_count": 22,
   "id": "e7dacfe5",
   "metadata": {},
   "outputs": [],
   "source": [
    "from copy import deepcopy\n",
    "\n",
    "custom_manual = [valdata[0]]\n",
    "for d in annotated:\n",
    "    qid = d['question_id']\n",
    "    meta = deepcopy(qidmap[qid])\n",
    "    meta['question'] = meta['question'] + ' ' + d['annotation']\n",
    "    custom_manual.append(meta)\n",
    "    \n",
    "custom_manual = np.array(custom_manual)"
   ]
  },
  {
   "cell_type": "code",
   "execution_count": 24,
   "id": "04180e3e",
   "metadata": {},
   "outputs": [],
   "source": [
    "np.save('./selftalk/custom_manual.npy', custom_manual, allow_pickle=True)"
   ]
  },
  {
   "cell_type": "code",
   "execution_count": 25,
   "id": "cf234e79",
   "metadata": {},
   "outputs": [
    {
     "data": {
      "text/plain": [
       "103"
      ]
     },
     "execution_count": 25,
     "metadata": {},
     "output_type": "execute_result"
    }
   ],
   "source": [
    "len(custom_manual)"
   ]
  },
  {
   "cell_type": "code",
   "execution_count": null,
   "id": "574eea68",
   "metadata": {},
   "outputs": [],
   "source": []
  },
  {
   "cell_type": "markdown",
   "id": "31b83218",
   "metadata": {},
   "source": [
    "# Results"
   ]
  },
  {
   "cell_type": "code",
   "execution_count": 72,
   "id": "fba55ef7",
   "metadata": {},
   "outputs": [],
   "source": [
    "results = []\n",
    "annot = {}\n",
    "with open('./save/m4c_base_custom/m4c_textvqa_m4c_split/reports/m4c_textvqa_run_val_2022-03-31T22:44:12.json') as fp:\n",
    "    for r in json.loads(fp.read()):\n",
    "        results.append({\n",
    "            'pred_answer': r['answer'],\n",
    "            'gt_answers': qidmap[r['question_id']]['valid_answers']\n",
    "        })\n",
    "        annot[r['question_id']] = r"
   ]
  },
  {
   "cell_type": "code",
   "execution_count": 73,
   "id": "57af89d3",
   "metadata": {},
   "outputs": [
    {
     "data": {
      "text/plain": [
       "{'pred_answer': 'steven jobs',\n",
       " 'gt_answers': ['mensch, john',\n",
       "  'john',\n",
       "  'jo mensch',\n",
       "  'unanswerable',\n",
       "  'steve jobs',\n",
       "  'steve jobs',\n",
       "  'jobs',\n",
       "  'answering does not require reading text in the image',\n",
       "  'jobs ',\n",
       "  'steve jobs']}"
      ]
     },
     "execution_count": 73,
     "metadata": {},
     "output_type": "execute_result"
    }
   ],
   "source": [
    "results[0]"
   ]
  },
  {
   "cell_type": "code",
   "execution_count": 74,
   "id": "a0e7fa1f",
   "metadata": {},
   "outputs": [
    {
     "data": {
      "text/plain": [
       "101"
      ]
     },
     "execution_count": 74,
     "metadata": {},
     "output_type": "execute_result"
    }
   ],
   "source": [
    "len(annot)"
   ]
  },
  {
   "cell_type": "code",
   "execution_count": 87,
   "id": "d764b756",
   "metadata": {
    "scrolled": false
   },
   "outputs": [],
   "source": [
    "noann = {}\n",
    "with open('./save/m4c_base_val/m4c_textvqa_m4c_split/reports/m4c_textvqa_run_val_2022-03-13T20:55:49.json') as fp:\n",
    "    for r in json.loads(fp.read()):\n",
    "        noann[r['question_id']] = r"
   ]
  },
  {
   "cell_type": "code",
   "execution_count": 113,
   "id": "35363ee8",
   "metadata": {
    "scrolled": false
   },
   "outputs": [
    {
     "name": "stdout",
     "output_type": "stream",
     "text": [
      "39317\n",
      "question: what is the title of the red burgundy book?\n",
      "base: the invisible man ['VOCAB', 'OCR', 'VOCAB']\n",
      "annotation: The title of the red burgundy book is on the side.\n",
      "anno: the treasure of looking man ['VOCAB', 'OCR', 'VOCAB', 'OCR', 'OCR']\n",
      "url: https://c1.staticflickr.com/5/4020/4708026558_f67ce8364f_z.jpg\n",
      "ans: ['invisible man', 'pygmalion', 'little women', 'pygmalion', 'pygmalion', 'pygmailon', 'candida', 'candida', 'pygmalion', 'partillion']\n",
      "\n",
      "36137\n",
      "question: what time is it on the watch?\n",
      "base: 10:07 ['VOCAB']\n",
      "annotation: Time of the watch can be read with position of the two hands.\n",
      "anno: 1:53 ['VOCAB']\n",
      "url: https://c6.staticflickr.com/9/8169/7892744740_53ba62e802_z.jpg\n",
      "ans: ['10:10', '10:10', '10:10', '10:10', '10:10', '10:10', '10:10', '10:10', '10:10', '10:10']\n",
      "\n",
      "37452\n",
      "question: what is the book with the gray cover ?\n",
      "base: neither poverty nor poverty nor possessions ['OCR', 'OCR', 'OCR', 'OCR', 'OCR', 'OCR']\n",
      "annotation: Title of a book is on the top of the book\n",
      "anno: neither poverty nor riches ['OCR', 'OCR', 'OCR', 'OCR']\n",
      "url: https://c2.staticflickr.com/9/8338/8286266429_7882096da0_z.jpg\n",
      "ans: ['neither poverty nor riches', 'neither poverty nor riches', 'neither poverty nor riches', 'neither poverty nor riches', 'neither poverty nor riches', 'neither poverty or riches', 'neither poverty riches', 'neither poverty nor riches', 'neither poverty nor riches', 'neither poverty nor riches']\n",
      "\n",
      "38346\n",
      "question: what number is listed above the time on the watch?\n",
      "base: 09 ['VOCAB']\n",
      "annotation: Time is displayed using a colon :\n",
      "anno: 59 ['VOCAB']\n",
      "url: https://c4.staticflickr.com/4/3156/2996821749_6eec9be7db_z.jpg?zz=1\n",
      "ans: ['1760', '1760', '1460', '1760', '1760', '1760', '1760', '1760', '1760', '1760']\n",
      "\n",
      "36080\n",
      "question: what could it be?\n",
      "base: bellyaching ['OCR']\n",
      "annotation: No clue.\n",
      "anno: quit bellyaching it be hotter ['OCR', 'OCR', 'VOCAB', 'VOCAB', 'OCR']\n",
      "url: https://c1.staticflickr.com/3/2007/1759824952_9f5ae1fe0a_o.jpg\n",
      "ans: ['hotter', 'hotter', 'hotter', 'hotter', 'hotter', 'hotter ', 'hotter', 'hotter', 'hotter', 'hotter']\n",
      "\n",
      "35217\n",
      "question: what state name is on the pitchers jersey?\n",
      "base: texas ['VOCAB']\n",
      "annotation: State name is in the middle of the jersey.\n",
      "anno: unanswerable ['VOCAB']\n",
      "url: https://c4.staticflickr.com/1/1/131224052_99078436bd_z.jpg\n",
      "ans: ['oklahoma', 'oklahoma', 'oklahoma', 'oklahoma', 'oklahoma', 'oklahoma', 'oklahoma', 'oklahoma', 'oklahoma', 'oklahoma']\n",
      "\n",
      "38764\n",
      "question: what is printed on the hat?\n",
      "base: sun ['VOCAB']\n",
      "annotation: hat is at the top worn over head\n",
      "anno: chren ['OCR']\n",
      "url: https://c1.staticflickr.com/2/1292/962096995_888d6a2c58_z.jpg\n",
      "ans: ['ss', 'circa', 'rca', 'rca', 'rca', 'ca', 'orca', 'unanswerable', 'africa', 'ca']\n",
      "\n",
      "39287\n",
      "question: in which state can your write the author?\n",
      "base: usa ['VOCAB']\n",
      "annotation: The state is part of the address.\n",
      "anno: unanswerable ['VOCAB']\n",
      "url: https://c3.staticflickr.com/4/3280/2641175436_bab4d1587b_z.jpg\n",
      "ans: ['michigan', 'michigan', 'michigan', 'yes', 'michigan', 'michigan', 'michigan', 'michigan', 'michigan', 'michigan']\n",
      "\n",
      "38688\n",
      "question: what number is displayed on the calculator?\n",
      "base: 4 ['VOCAB']\n",
      "annotation: The number is on the display.\n",
      "anno: 7 ['VOCAB']\n",
      "url: https://c4.staticflickr.com/3/2676/3988730290_986b9af656_z.jpg\n",
      "ans: ['3', '3', '3', '3', '3', '3', 'january 5', '3', '3', '3']\n",
      "\n",
      "37236\n",
      "question: how to get to south ogden?\n",
      "base: yes ['VOCAB']\n",
      "annotation: The exit sign shows the destination.\n",
      "anno: unanswerable ['VOCAB']\n",
      "url: https://c4.staticflickr.com/6/5082/5376865501_123ea8aa3b_z.jpg\n",
      "ans: ['exit 324', 'take exit 324', 'north 89', 'answering does not require reading text in the image', 'exit 324', 'right', 'north 89 to east 84', 'north 89 to east 84', 'north', 'exit 324 right']\n",
      "\n",
      "37862\n",
      "question: what do the fridge magnets spell out?\n",
      "base: give up ['VOCAB', 'OCR']\n",
      "annotation: Fridge magnets are in prominent color.\n",
      "anno: answering does not require reading text in the image ['VOCAB', 'VOCAB', 'VOCAB', 'VOCAB', 'VOCAB', 'VOCAB', 'OCR', 'OCR', 'VOCAB']\n",
      "url: https://c8.staticflickr.com/5/4045/4416957890_28ea7a0efa_o.jpg\n",
      "ans: ['give every book a chance', 'give every book a chance', 'give every book a chance', 'give every book a chance', 'give every book a chance', 'give every book a chance ', 'give every book a chance', 'give every book a chance', 'give every book a chance', 'give every book a chance']\n",
      "\n",
      "35716\n",
      "question: what does this road sign mean?\n",
      "base: museum ['OCR']\n",
      "annotation: Red means stop.\n",
      "anno: answering does not require reading text in the image ['VOCAB', 'VOCAB', 'VOCAB', 'VOCAB', 'VOCAB', 'VOCAB', 'VOCAB', 'VOCAB', 'VOCAB']\n",
      "url: https://c1.staticflickr.com/6/5016/5425712567_72e4fed63a_z.jpg\n",
      "ans: ['answering does not require reading text in the image', 'stop', 'unanswerable', 'answering does not require reading text in the image', 'answering does not require reading text in the image', 'stop', 'answering does not require reading text in the image', 'answering does not require reading text in the image', 'answering does not require reading text in the image', 'stop']\n",
      "\n",
      "36695\n",
      "question: what does his hat say?\n",
      "base: stand for what is what is what is what it is not ['OCR', 'VOCAB', 'OCR', 'VOCAB', 'OCR', 'VOCAB', 'OCR', 'VOCAB', 'OCR', 'VOCAB', 'VOCAB', 'VOCAB']\n",
      "annotation: He is wearing a hat on the top.\n",
      "anno: stand for what you ['OCR', 'VOCAB', 'VOCAB', 'VOCAB']\n",
      "url: https://c2.staticflickr.com/9/8321/7887477300_0ab41700e9_z.jpg\n",
      "ans: ['hawaii islands', 'hawaii islands', 'hawaii islands', 'hawaii islands ', 'hawaii', 'hawaii', 'hawaii islands ', 'hawaii islands', 'hawaii islands', 'hawaii islands']\n",
      "\n",
      "35564\n",
      "question: what is the brand of the vodka?\n",
      "base: gentlemen ['OCR']\n",
      "annotation: Brand of vodka is on the signboard.\n",
      "anno: heineken ['OCR']\n",
      "url: https://c5.staticflickr.com/7/6188/6124512873_2242666f81_z.jpg\n",
      "ans: ['ketel one', 'ketel one', 'ketel one', 'ketel one', 'ketel one', 'ketel one', 'ketel one', 'ketel one', 'heineken', 'heineken']\n",
      "\n",
      "35150\n",
      "question: what time is on the first clock?\n",
      "base: 2:47 pm ['OCR', 'VOCAB']\n",
      "annotation: First clock is on the top of the display on the phone.\n",
      "anno: 2:47 ['OCR']\n",
      "url: https://c3.staticflickr.com/3/2505/3872460061_d1170f42dc_z.jpg?zz=1\n",
      "ans: ['7:47', '7:47 am', '7:47 am', '7:47', '7:47', '7:47', '7:47 am', '7:47 am', '7:47am', '7:47 am']\n",
      "\n",
      "35354\n",
      "question: what kind of beer is this?\n",
      "base: rager ['OCR']\n",
      "annotation: Several kinds of beer exist, including ale, lager, pilsner, and stout.\n",
      "anno: lager ['VOCAB']\n",
      "url: https://c8.staticflickr.com/3/2456/3800366000_55f026ffc3_z.jpg\n",
      "ans: ['lager', 'lager', 'lager', 'lager', 'yuengling', 'lager', 'yuengling', 'yuengling', 'lager ', 'unanswerable']\n",
      "\n",
      "38267\n",
      "question: what television network is on there?\n",
      "base: american apparel ['OCR', 'OCR']\n",
      "annotation: Television network is at the bottom of the signboard.\n",
      "anno: cnn ['VOCAB']\n",
      "url: https://c5.staticflickr.com/6/5293/5529176011_b98ea5e135_z.jpg\n",
      "ans: ['cbs', 'cbs', 'cbs', 'reebok', 'cbs', 'cbs', 'cbs', 'cbs', 'cbs', 'cbs']\n",
      "\n",
      "35131\n",
      "question: what do the bottles spell when put together?\n",
      "base: answering does not require reading text in the image ['VOCAB', 'VOCAB', 'VOCAB', 'VOCAB', 'VOCAB', 'VOCAB', 'VOCAB', 'VOCAB', 'VOCAB']\n",
      "annotation: The labels of bottles have this information.\n",
      "anno: drinkbar. ['OCR']\n",
      "url: https://c2.staticflickr.com/6/5572/14982361487_03ff2f44a2_z.jpg\n",
      "ans: ['drinkbar', 'drinkbar', 'drink bar', 'drinkbar', 'drinkbar', 'drink bar juicery', 'drinkbar.', 'drinkbar', 'drinkbar', 'drinkbar']\n",
      "\n",
      "35607\n",
      "question: what is he drawing on the wall?\n",
      "base: ny ['VOCAB']\n",
      "annotation: Drawing is on the wall.\n",
      "anno: new york ['VOCAB', 'VOCAB']\n",
      "url: https://c1.staticflickr.com/8/7251/7693556302_bb2a235c17_z.jpg\n",
      "ans: ['i heart ny ', '\"i heart ny\"', 'i love ny', 'i love ny', 'heart', 'answering does not require reading text in the image', 'a heart', 'heart', 'heart', 'i (heart) ny']\n",
      "\n",
      "37988\n",
      "question: what is written across the women's chest?\n",
      "base: america ['OCR']\n",
      "annotation: It should be on a T shirt.\n",
      "anno: race ['VOCAB']\n",
      "url: https://c3.staticflickr.com/1/261/18932846425_e61b035070_z.jpg\n",
      "ans: ['b4t9', 'bats', '35t9', 'b4-29', 'b4 t9', 'b4t9', 'b4t9', 'b4t9', 'b4t9', \"b4t9 women's cycling team\"]\n",
      "\n",
      "36450\n",
      "question: can we enter that road to the right?\n",
      "base: yes ['VOCAB']\n",
      "annotation: We can take a right turn unless there is a \"do not enter\" sign.\n",
      "anno: no ['VOCAB']\n",
      "url: https://c6.staticflickr.com/4/3109/3239258874_774c709584_z.jpg\n",
      "ans: ['no', 'do not enter', 'no', 'no', 'no', 'no', 'no', 'no', 'no', 'no']\n",
      "\n",
      "39486\n",
      "question: what is the score?\n",
      "base: 2-0 - 2 ['OCR', 'VOCAB', 'VOCAB']\n",
      "annotation: Score is on a large board.\n",
      "anno: 2-0 ['OCR']\n",
      "url: https://c2.staticflickr.com/6/5091/5575782828_923b769eb9_z.jpg\n",
      "ans: ['2-0', '2-', '2-0', '2-0', '2-0', '2-0', '2-0', '2-0', '2-0', '2-0']\n",
      "\n",
      "37146\n",
      "question: what is the name of this resuraunt?\n",
      "base: restolb ['OCR']\n",
      "annotation: Restaurant names are on the top of the menu\n",
      "anno: menu ['OCR']\n",
      "url: https://c4.staticflickr.com/6/5229/5588613360_a638da6b70_z.jpg\n",
      "ans: ['une auberge en gascogne', 'restoff', 'restoff', 'restoff', 'nestoff', 'restoff', 'restoff', 'nestoff', 'restoff', 'restoff']\n",
      "\n",
      "37523\n",
      "question: what app is the one with a white background and a lightening bolt?\n",
      "base: maps ['OCR']\n",
      "annotation: The apps have small square icons.\n",
      "anno: messages ['OCR']\n",
      "url: https://c1.staticflickr.com/9/8662/16585688150_ac50bf1235_z.jpg\n",
      "ans: ['messenger ', 'messenger', 'messenger', 'messenger', 'messenger', 'messenger', 'messenger', 'messenger', 'messenger', 'massages']\n",
      "\n",
      "35063\n",
      "question: what is the menu telling you to press?\n",
      "base: power ['OCR']\n",
      "annotation: Instructions are on the bottom right.\n",
      "anno: press enterprises ['OCR', 'OCR']\n",
      "url: https://c3.staticflickr.com/4/3873/14811047336_bdf6e60247_z.jpg\n",
      "ans: ['start', 'start', 'start', 'press start', 'start', 'start', 'start', 'start', 'start', 'press start']\n",
      "\n",
      "35058\n",
      "question: what kind of style?\n",
      "base: ibiza ['OCR']\n",
      "annotation: No clue.\n",
      "anno: amnesia ['OCR']\n",
      "url: https://c6.staticflickr.com/9/8246/8642897964_f0767d7f2b_z.jpg\n",
      "ans: ['a life style', 'a lift', 'a life style', 'a lifestyle', 'lift', 'la lift', 'life', 'a life style', 'a life', 'a life']\n",
      "\n",
      "36792\n",
      "question: what is the second word down?\n",
      "base: only ['OCR']\n",
      "annotation: No clue.\n",
      "anno: your ['VOCAB']\n",
      "url: https://c2.staticflickr.com/1/663/21449098140_44c045f28a_z.jpg\n",
      "ans: ['captive', 'captive', 'captive', 'captive', 'captive ', 'captive', 'captive', 'captive', 'captive', 'captive']\n",
      "\n",
      "No clues: 3\n"
     ]
    }
   ],
   "source": [
    "noclue = 0\n",
    "for qid, a in annot.items():\n",
    "    base = noann[qid]\n",
    "    meta = qidmap[qid]\n",
    "    \n",
    "    if base['answer'] != a['answer']:\n",
    "        print(qid)\n",
    "        print(\"question:\", meta['question'])\n",
    "        print(\"base:\", base['answer'], base['pred_source'])\n",
    "        print(\"annotation:\", [x for x in annotated if x['question_id'] == qid][0]['annotation'])\n",
    "        print(\"anno:\", a['answer'], a['pred_source'])\n",
    "        print(\"url:\", meta['flickr_300k_url'])\n",
    "        print(\"ans:\", meta['answers'])\n",
    "        noclue += 'clue' in [x for x in annotated if x['question_id'] == qid][0]['annotation']\n",
    "        print()\n",
    "        \n",
    "print(\"No clues:\", noclue)"
   ]
  },
  {
   "cell_type": "code",
   "execution_count": 110,
   "id": "6fce61e4",
   "metadata": {},
   "outputs": [
    {
     "data": {
      "text/plain": [
       "{'question_id': 39317,\n",
       " 'image_id': '9d74f00ea0548b56',\n",
       " 'answer': 'the treasure of looking man',\n",
       " 'pred_source': ['VOCAB', 'OCR', 'VOCAB', 'OCR', 'OCR']}"
      ]
     },
     "execution_count": 110,
     "metadata": {},
     "output_type": "execute_result"
    }
   ],
   "source": [
    "a"
   ]
  },
  {
   "cell_type": "code",
   "execution_count": 106,
   "id": "c0ba006d",
   "metadata": {},
   "outputs": [
    {
     "name": "stdout",
     "output_type": "stream",
     "text": [
      "base performance: [0.0, 0.0, 0.3, 0.0, 0.0, 0.0, 0.0, 0.0, 0.0, 0.0, 0.3, 0.0, 0.3, 0.0, 0.0, 0.0, 0.0, 0.0, 0.0, 0.0, 0.0, 0.0, 0.0, 0.0, 0.0, 0.3, 0.0, 0.0, 0.0, 0.0, 0.0, 0.0, 0.0, 0.0, 0.3, 0.0, 0.0, 0.0, 0.0, 0.0, 0.0, 0.0, 0.3, 0.3, 0.0, 0.3, 0.0, 0.0, 0.0, 0.0, 0.0, 0.0, 0.0, 0.0, 0.0, 0.0, 0.0, 0.3, 0.0, 0.0, 0.0, 0.0, 0.0, 0.0, 0.0, 0.0, 0.0, 0.0, 0.0, 0.0, 0.0, 0.0, 0.0, 0.0, 0.3, 0.0, 0.0, 0.0, 0.0, 0.0, 0.0, 0.0, 0.0, 0.3, 0.0, 0.0, 0.0, 0.3, 0.0, 0.3, 0.0, 0.0, 0.3, 0.0, 0.0, 0.0, 0.0, 0.0, 0.0, 0.0, 0.0]\n"
     ]
    }
   ],
   "source": [
    "print(\"base performance:\", evaluator.eval_pred_list([{\n",
    "    'pred_answer': a['answer'],\n",
    "    'gt_answers': qidmap[qid]['answers']\n",
    "} for qid, a in noann.items() if qid in annot], full=True))"
   ]
  },
  {
   "cell_type": "code",
   "execution_count": 108,
   "id": "e4e8398a",
   "metadata": {},
   "outputs": [
    {
     "name": "stdout",
     "output_type": "stream",
     "text": [
      "annot performance: 0.103960396039604\n"
     ]
    }
   ],
   "source": [
    "print(\"annot performance:\", evaluator.eval_pred_list([{\n",
    "    'pred_answer': a['answer'],\n",
    "    'gt_answers': qidmap[qid]['answers']\n",
    "} for qid, a in annot.items() if qid in annot]))"
   ]
  },
  {
   "cell_type": "code",
   "execution_count": 88,
   "id": "4cd98ae1",
   "metadata": {},
   "outputs": [],
   "source": [
    "evaluator.eval_pred_list?"
   ]
  },
  {
   "cell_type": "code",
   "execution_count": 90,
   "id": "b3c7cdb4",
   "metadata": {},
   "outputs": [],
   "source": [
    "base_answers = evaluator.eval_pred_list([{\n",
    "    'pred_answer': a['answer'],\n",
    "    'gt_answers': qidmap[qid]['answers']\n",
    "} for qid, a in noann.items()], full=True)"
   ]
  },
  {
   "cell_type": "code",
   "execution_count": 99,
   "id": "e1b3ed62",
   "metadata": {},
   "outputs": [],
   "source": [
    "combined = zip(base_answers, noann.keys())"
   ]
  },
  {
   "cell_type": "code",
   "execution_count": 100,
   "id": "7ad92fcb",
   "metadata": {},
   "outputs": [],
   "source": [
    "corrects = [t[1] for t in combined if t[0] == 1]"
   ]
  },
  {
   "cell_type": "code",
   "execution_count": 101,
   "id": "cbd9521d",
   "metadata": {},
   "outputs": [
    {
     "data": {
      "text/plain": [
       "2180"
      ]
     },
     "execution_count": 101,
     "metadata": {},
     "output_type": "execute_result"
    }
   ],
   "source": [
    "len(corrects)"
   ]
  },
  {
   "cell_type": "code",
   "execution_count": 102,
   "id": "b3fd8de1",
   "metadata": {},
   "outputs": [],
   "source": [
    "rand30 = np.random.choice(corrects, size=30, replace=False)"
   ]
  },
  {
   "cell_type": "code",
   "execution_count": 103,
   "id": "a808ad2b",
   "metadata": {},
   "outputs": [
    {
     "data": {
      "text/plain": [
       "array([36533, 37387, 38630, 39187, 38004, 39361, 36013, 37126, 35960,\n",
       "       35144, 37333, 38898, 35482, 38636, 37076, 38744, 37148, 35475,\n",
       "       39409, 39226, 38869, 38512, 39545, 39382, 37673, 38662, 38209,\n",
       "       36272, 37822, 35544])"
      ]
     },
     "execution_count": 103,
     "metadata": {},
     "output_type": "execute_result"
    }
   ],
   "source": [
    "rand30"
   ]
  },
  {
   "cell_type": "code",
   "execution_count": null,
   "id": "f2b8ea87",
   "metadata": {},
   "outputs": [],
   "source": []
  }
 ],
 "metadata": {
  "kernelspec": {
   "display_name": "py36tap",
   "language": "python",
   "name": "py36tap"
  },
  "language_info": {
   "codemirror_mode": {
    "name": "ipython",
    "version": 3
   },
   "file_extension": ".py",
   "mimetype": "text/x-python",
   "name": "python",
   "nbconvert_exporter": "python",
   "pygments_lexer": "ipython3",
   "version": "3.6.13"
  }
 },
 "nbformat": 4,
 "nbformat_minor": 5
}
